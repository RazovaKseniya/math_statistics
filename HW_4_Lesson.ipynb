{
 "cells": [
  {
   "cell_type": "markdown",
   "id": "7a092185",
   "metadata": {},
   "source": [
    "### 1. \n",
    "Случайная непрерывная величина A имеет равномерное распределение на промежутке (200, 800].\n",
    "Найдите ее среднее значение и дисперсию."
   ]
  },
  {
   "cell_type": "code",
   "execution_count": 14,
   "id": "0aa31e5e",
   "metadata": {},
   "outputs": [],
   "source": [
    "import scipy.stats as sps\n",
    "import numpy as np"
   ]
  },
  {
   "cell_type": "code",
   "execution_count": 25,
   "id": "c58bc325",
   "metadata": {},
   "outputs": [],
   "source": [
    "sample = np.linspace(201, 800, 600)"
   ]
  },
  {
   "cell_type": "code",
   "execution_count": 26,
   "id": "769e558b",
   "metadata": {},
   "outputs": [
    {
     "name": "stdout",
     "output_type": "stream",
     "text": [
      "Среденее: 500.500\n",
      "Дисперсия: 30050.000\n"
     ]
    }
   ],
   "source": [
    "print(f'Среденее: %.3f' % sample.mean())\n",
    "print(f'Дисперсия: %.3f' % sample.var(ddof=1))"
   ]
  },
  {
   "cell_type": "markdown",
   "id": "4bb3df5f",
   "metadata": {},
   "source": [
    "### 2. \n",
    "О случайной непрерывной равномерно распределенной величине B известно, что ее дисперсия равна 0.2.\n",
    "Можно ли найти правую границу величины B и ее среднее значение зная, что левая граница равна 0.5?\n",
    "Если да, найдите ее."
   ]
  },
  {
   "cell_type": "markdown",
   "id": "b41e97a0",
   "metadata": {},
   "source": [
    "* __Непрерывное равномерное__ распределение (`scipy.stats.uniform`) — непрерывный аналог дискретного равномерного распределения. Функция плотности постоянна внутри отрезка:\n",
    "$$\n",
    "    f(x) = \\begin{cases}\n",
    "    1 / (b - a), & x \\in [ a, b ], \\\\\n",
    "    0 & \\text{иначе}.\n",
    "    \\end{cases}\n",
    "$$"
   ]
  },
  {
   "cell_type": "markdown",
   "id": "3b5ac22d",
   "metadata": {},
   "source": [
    "Свойства распределения:\n",
    "\n",
    "математическое ожидание: a+b / 2,\n",
    "\n",
    "дисперсия: (b−a)^2 / 12"
   ]
  },
  {
   "cell_type": "markdown",
   "id": "0305c3da",
   "metadata": {},
   "source": [
    "$$b = a + \\sqrt{12 \\cdot D(X)} = 0,5 + \\sqrt{12 \\cdot 0,2} = 0,5 + \\sqrt{2,4} = 0,5 + 1,5492 = 2,0492$$\n",
    "Найдем среднее значение\n",
    "$$M(X) = \\frac{a + b}{2} = \\frac{0,5 + 2,0492}{2} = 1,2746$$"
   ]
  },
  {
   "cell_type": "code",
   "execution_count": 15,
   "id": "0200e0b1",
   "metadata": {},
   "outputs": [
    {
     "data": {
      "text/plain": [
       "2.049193338482967"
      ]
     },
     "execution_count": 15,
     "metadata": {},
     "output_type": "execute_result"
    }
   ],
   "source": [
    "B = np.sqrt(2.4) + 0.5\n",
    "B"
   ]
  },
  {
   "cell_type": "code",
   "execution_count": 16,
   "id": "77d29cc8",
   "metadata": {},
   "outputs": [
    {
     "data": {
      "text/plain": [
       "1.2745966692414834"
      ]
     },
     "execution_count": 16,
     "metadata": {},
     "output_type": "execute_result"
    }
   ],
   "source": [
    "mean_value = (0.5 + B)/2\n",
    "mean_value"
   ]
  },
  {
   "cell_type": "markdown",
   "id": "69871593",
   "metadata": {},
   "source": [
    "### 3. \n",
    "Непрерывная случайная величина X распределена нормально и задана плотностью распределения\n",
    "f(x) = (1 / (4 * sqrt(2*pi))) * (exp(-(x+2)**2) / 32).\n",
    "Найдите:\n",
    "а). M(X)\n",
    "б). D(X)\n",
    "в). std(X) (среднее квадратичное отклонение)\n"
   ]
  },
  {
   "cell_type": "markdown",
   "id": "cbb842ee",
   "metadata": {},
   "source": [
    "Непрерывная случайная величина $X$ имеет __нормальное распределение__ с параметрами $a$ и $\\sigma > 0$, если её плотность распределения задаётся формулой\n",
    "$$f(x) = \\dfrac{1}{\\sqrt{2 \\pi \\sigma^2}} \\cdot \\exp \\left(- \\frac{(x - \\mu)^2}{2 \\sigma^2} \\right)$$\n",
    "\n",
    "Параметры $\\mu$ и $\\sigma$ задают, соответственно, математическое ожидание и среднее квадратическое отклонение случайной величины:\n",
    "$$M(X) = \\mu, \\:\\: D(X) = \\sigma^2$$"
   ]
  },
  {
   "cell_type": "code",
   "execution_count": 17,
   "id": "93a03fa0",
   "metadata": {},
   "outputs": [],
   "source": [
    "def pdf_normal(loc: float, scale: float, x: float) -> float:\n",
    "    \n",
    "    return np.exp(- ((x + loc) ** 2) / 32) / (scale * np.sqrt(2 * np.pi))"
   ]
  },
  {
   "cell_type": "code",
   "execution_count": 29,
   "id": "4d5ebb0f",
   "metadata": {},
   "outputs": [
    {
     "name": "stdout",
     "output_type": "stream",
     "text": [
      "Дисперсия: 16\n",
      "Среднее: -2\n",
      "Средне-квадратичное отклонение: 4.0\n"
     ]
    }
   ],
   "source": [
    "X_dx = 16\n",
    "X_mx = -2\n",
    "X_std = np.math.sqrt(X_dx)\n",
    "\n",
    "print(f'Дисперсия: {X_dx}')\n",
    "print(f'Среднее: {X_mx}' )\n",
    "print(f'Средне-квадратичное отклонение: {X_std}')"
   ]
  },
  {
   "cell_type": "markdown",
   "id": "81bbdfa7",
   "metadata": {},
   "source": [
    "### 4\n",
    "Рост взрослого населения города X имеет нормальное распределение. Причем, средний рост равен 174 см, а среднее квадратичное отклонение равно 8 см. Какова вероятность того, что случайным образом выбранный взрослый человек имеет рост:\n",
    "\n",
    "a) больше 182 см\n",
    "\n",
    "b) больше 190 см\n",
    "\n",
    "c) от 166 см до 190 см\n",
    "\n",
    "d) от 166 см до 182 см\n",
    "\n",
    "e) от 158 см до 190 см\n",
    "\n",
    "f) не выше 150 см или не ниже 190 см\n",
    "\n",
    "g) не выше 150 см или не ниже 198 см\n",
    "\n",
    "h) ниже 166 см."
   ]
  },
  {
   "cell_type": "code",
   "execution_count": 31,
   "id": "708c7ec9",
   "metadata": {},
   "outputs": [
    {
     "data": {
      "text/plain": [
       "<scipy.stats._distn_infrastructure.rv_frozen at 0x1a19d34c2b0>"
      ]
     },
     "execution_count": 31,
     "metadata": {},
     "output_type": "execute_result"
    }
   ],
   "source": [
    "height_mean = 174\n",
    "height_std = 8\n",
    "X = sps.norm(loc=height_mean, scale=height_std)\n",
    "X"
   ]
  },
  {
   "cell_type": "code",
   "execution_count": 34,
   "id": "43bc4695",
   "metadata": {},
   "outputs": [
    {
     "name": "stdout",
     "output_type": "stream",
     "text": [
      "a) 0.15865525393145707\n",
      "b) 0.022750131948179195\n",
      "c) 0.8185946141203637\n",
      "d) 0.6826894921370859\n",
      "e) 0.9544997361036416\n",
      "f) 0.024100029979809288\n",
      "g) 0.0026997960632601866\n",
      "h) 0.15865525393145707\n"
     ]
    }
   ],
   "source": [
    "print(\"a) {}\\nb) {}\\nc) {}\\nd) {}\\ne) {}\\nf) {}\\ng) {}\\nh) {}\".format(\n",
    "    X.sf(182),\n",
    "    X.sf(190),\n",
    "    X.cdf(190) - X.cdf(166),\n",
    "    X.cdf(182) - X.cdf(166),\n",
    "    X.cdf(190) - X.cdf(158),\n",
    "    X.cdf(150) + X.sf(190),\n",
    "    X.cdf(150) + X.sf(198),\n",
    "    X.cdf(166)\n",
    "))"
   ]
  },
  {
   "cell_type": "markdown",
   "id": "375bf317",
   "metadata": {},
   "source": [
    "### 5. \n",
    "На сколько сигм (средних квадратичных отклонений) отклоняется рост человека, равный 190 см, от\n",
    "математического ожидания роста в популяции, в которой M(X) = 178 см и D(X) = 25 кв.см?\n"
   ]
  },
  {
   "cell_type": "code",
   "execution_count": 35,
   "id": "a6ed4875",
   "metadata": {},
   "outputs": [],
   "source": [
    "height = 190\n",
    "M_x = 178\n",
    "D_x = 25"
   ]
  },
  {
   "cell_type": "code",
   "execution_count": 38,
   "id": "12d4892c",
   "metadata": {},
   "outputs": [
    {
     "data": {
      "text/plain": [
       "2.4"
      ]
     },
     "execution_count": 38,
     "metadata": {},
     "output_type": "execute_result"
    }
   ],
   "source": [
    "(height - M_x) / D_x**(1/2)"
   ]
  },
  {
   "cell_type": "code",
   "execution_count": null,
   "id": "0a18eccf",
   "metadata": {},
   "outputs": [],
   "source": []
  }
 ],
 "metadata": {
  "kernelspec": {
   "display_name": "Python 3",
   "language": "python",
   "name": "python3"
  },
  "language_info": {
   "codemirror_mode": {
    "name": "ipython",
    "version": 3
   },
   "file_extension": ".py",
   "mimetype": "text/x-python",
   "name": "python",
   "nbconvert_exporter": "python",
   "pygments_lexer": "ipython3",
   "version": "3.8.8"
  }
 },
 "nbformat": 4,
 "nbformat_minor": 5
}
