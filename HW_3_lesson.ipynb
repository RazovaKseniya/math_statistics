{
 "cells": [
  {
   "cell_type": "markdown",
   "id": "1ed688f6",
   "metadata": {},
   "source": [
    "### Задача 1\n",
    "Даны значения зарплат из выборки выпускников:\n",
    "100, 80, 75, 77, 89, 33, 45, 25, 65, 17, 30, 230, 24, 57, 55, 70, 75, 65, 84, 90, 150\n",
    " \n",
    "Используя только встроенные питоновские функции и структуры данных (т.е. без библиотек numpy, pandas и др.), посчитайте (несмещённое) среднее квадратичное отклонение для данной выборки."
   ]
  },
  {
   "cell_type": "markdown",
   "id": "09654e9b",
   "metadata": {},
   "source": [
    "__Среднее квадратическое отклонение(несмещенное)__:\n",
    "\n",
    "$$\\sigma_X = \\sqrt{\\dfrac{1}{n - 1} \\displaystyle\\sum_{i = 1}^n \\left( x_i - \\overline{X} \\right)^2}$$"
   ]
  },
  {
   "cell_type": "code",
   "execution_count": 38,
   "id": "c8991224",
   "metadata": {},
   "outputs": [],
   "source": [
    "import math"
   ]
  },
  {
   "cell_type": "code",
   "execution_count": 39,
   "id": "6fef4049",
   "metadata": {},
   "outputs": [],
   "source": [
    "data = [100, 80, 75, 77, 89, 33, 45, 25, 65, 17, 30, 230, 24, 57, 55, 70, 75, 65, 84, 90, 150]"
   ]
  },
  {
   "cell_type": "code",
   "execution_count": 68,
   "id": "e2395180",
   "metadata": {},
   "outputs": [
    {
     "data": {
      "text/plain": [
       "73.14285714285714"
      ]
     },
     "execution_count": 68,
     "metadata": {},
     "output_type": "execute_result"
    }
   ],
   "source": [
    "average = sum(data) / len(data)\n",
    "\n",
    "average"
   ]
  },
  {
   "cell_type": "code",
   "execution_count": 69,
   "id": "27223ca9",
   "metadata": {},
   "outputs": [
    {
     "name": "stdout",
     "output_type": "stream",
     "text": [
      "2241.8285714285716\n"
     ]
    }
   ],
   "source": [
    "def unbiased_dispersion():\n",
    "    result = 0\n",
    "    for i in range(len(data)):\n",
    "        result += (data[i] - average)**2\n",
    "    return result / (len(data) - 1)\n",
    "\n",
    "print(unbiased_dispersion())"
   ]
  },
  {
   "cell_type": "code",
   "execution_count": 70,
   "id": "122c598a",
   "metadata": {},
   "outputs": [
    {
     "name": "stdout",
     "output_type": "stream",
     "text": [
      "47.34795214\n"
     ]
    }
   ],
   "source": [
    "def std_():\n",
    "    return math.sqrt(unbiased_dispersion())\n",
    "\n",
    "print(\"%.8f\" % std_())"
   ]
  },
  {
   "cell_type": "markdown",
   "id": "4cece4e7",
   "metadata": {},
   "source": [
    "### Задача 2\n",
    "Найдите число выбросов в выборке из задачи 1. Для определения выбросов используйте методику как при построении “усов” в boxplot, однако, как и в задаче 1, пользоваться можно только встроенными функциями и структурами данных."
   ]
  },
  {
   "cell_type": "code",
   "execution_count": 73,
   "id": "5a79a0a2",
   "metadata": {},
   "outputs": [
    {
     "name": "stdout",
     "output_type": "stream",
     "text": [
      "70\n"
     ]
    }
   ],
   "source": [
    "def quantile(values, value):\n",
    "    values = sorted(values)\n",
    "    return values[int(value * len(values))]\n",
    "\n",
    "print(quantile(data, 0.5))"
   ]
  },
  {
   "cell_type": "code",
   "execution_count": 75,
   "id": "241d7d7e",
   "metadata": {},
   "outputs": [
    {
     "name": "stdout",
     "output_type": "stream",
     "text": [
      "45\n"
     ]
    }
   ],
   "source": [
    "def quantile_1(values):\n",
    "    return quantile(values, 0.25)\n",
    "\n",
    "print(quantile_1(data))"
   ]
  },
  {
   "cell_type": "code",
   "execution_count": 76,
   "id": "c527b739",
   "metadata": {},
   "outputs": [
    {
     "name": "stdout",
     "output_type": "stream",
     "text": [
      "70\n"
     ]
    }
   ],
   "source": [
    "def median(values):\n",
    "    return quantile(values, 0.5)\n",
    "\n",
    "print(median(data))"
   ]
  },
  {
   "cell_type": "code",
   "execution_count": 77,
   "id": "79c5a729",
   "metadata": {},
   "outputs": [
    {
     "name": "stdout",
     "output_type": "stream",
     "text": [
      "84\n"
     ]
    }
   ],
   "source": [
    "def quantile_3(values):\n",
    "    return quantile(values, 0.75)\n",
    "\n",
    "print(quantile_3(data))"
   ]
  },
  {
   "cell_type": "code",
   "execution_count": 78,
   "id": "51f7b65b",
   "metadata": {},
   "outputs": [
    {
     "name": "stdout",
     "output_type": "stream",
     "text": [
      "39\n"
     ]
    }
   ],
   "source": [
    "def interquartile_distance(values):\n",
    "    return quantile_3(values) - quantile_1(values)\n",
    "\n",
    "print(interquartile_distance(data))"
   ]
  },
  {
   "cell_type": "code",
   "execution_count": 82,
   "id": "06e16f87",
   "metadata": {},
   "outputs": [
    {
     "name": "stdout",
     "output_type": "stream",
     "text": [
      "[230, 150]\n"
     ]
    }
   ],
   "source": [
    "def clear_ejection(values):\n",
    "    id = interquartile_distance(values)\n",
    "    min_mustache = quantile_1(values) - 1.5 * id\n",
    "    max_mustache = quantile_3(values) + 1.5 * id\n",
    "    result = []\n",
    "    for item in values:\n",
    "        if (item < min_mustache or item > max_mustache):\n",
    "            result.append(item)\n",
    "    return result\n",
    "\n",
    "print(clear_ejection(data))"
   ]
  },
  {
   "cell_type": "markdown",
   "id": "11f65dc4",
   "metadata": {},
   "source": [
    "### Задача 3\n",
    "В университет на факультет A поступило 100 человек, на факультет B - 90 человек и на факультет C - 45 человек. Вероятность того, что студент с факультета A сдаст первую сессию, равна 0.6. Для студента с факультета B эта вероятность равна 0.7, а для студента с факультета C - 0.8. Случайным образом выбирается студент, сдавший первую сессию. Какое событие наиболее вероятно:\n",
    "студент учится на факультете A,\n",
    "студент учится на факультете B,\n",
    "студент учится на факультете C?"
   ]
  },
  {
   "cell_type": "markdown",
   "id": "e440f5c2",
   "metadata": {},
   "source": [
    "Событие B студент поступил. Событие A сдал сессию.\n",
    "\n",
    "Предположим, что на факультет A поступило $n$ человек, тогда на факультет B тоже поступило $n$ человек, а на факультет C поступило $2n$ человек. Всего поступило $N = n + n + 2n = 4n$, \n",
    "тогда вероятность того, что студент поступил на факультеты A и B равна $\\\\frac{n}{4n} = \\\\frac{1}{4}$, а на факультет C $\\\\frac{2n}{4n} = \\\\frac{1}{2}$\n",
    "\n",
    "$$P(B_A) = P(B_B) = \\\\frac{1}{4}, P(B_C) = \\\\frac{1}{2}$$\n",
    "Тогда по формуле полной вероятности\n",
    "\n",
    "$$P(A) = \\\\frac{1}{4} \\\\cdot 0,8 + \\\\frac{1}{4} \\\\cdot 0,7 + \\\\frac{1}{2} \\\\cdot 0,9 = 0,825$$\n",
    "        a) на факультете A\n",
    "\n",
    "        $$P(A|B_A) = \\\\dfrac{0,25 \\\\cdot 0,8}{0,825} = 0,2424$$\n",
    "        б) на факультете B\n",
    "\n",
    "        $$P(A|B_B) = \\\\dfrac{0,25 \\\\cdot 0,7}{0,825} = 0.2121$$\n",
    "        в) на факультете C\n",
    "\n",
    "        $$P(A|B_C) = \\\\dfrac{0,5 \\\\cdot 0,9}{0,825} = 0.5455$$"
   ]
  },
  {
   "cell_type": "markdown",
   "id": "d2d43cbb",
   "metadata": {},
   "source": []
  }
 ],
 "metadata": {
  "kernelspec": {
   "display_name": "Python 3",
   "language": "python",
   "name": "python3"
  },
  "language_info": {
   "codemirror_mode": {
    "name": "ipython",
    "version": 3
   },
   "file_extension": ".py",
   "mimetype": "text/x-python",
   "name": "python",
   "nbconvert_exporter": "python",
   "pygments_lexer": "ipython3",
   "version": "3.8.8"
  }
 },
 "nbformat": 4,
 "nbformat_minor": 5
}
